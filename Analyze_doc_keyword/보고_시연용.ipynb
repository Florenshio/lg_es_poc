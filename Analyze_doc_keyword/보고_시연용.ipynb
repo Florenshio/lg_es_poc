{
 "cells": [
  {
   "cell_type": "markdown",
   "metadata": {},
   "source": [
    "1. 태스크 개요\n",
    "    \n",
    "    1. 태스크 정의\n",
    "    \n",
    "        (1) TF-IDF 가중치를 이용해 특정 문서의 핵심 키워드 분석\n",
    "    \n",
    "    2. 태스크 특징\n",
    "    \n",
    "        (1) TF-IDF 벡터 이용\n",
    "    \n",
    "        (2) 워드 클라우드와 표를 통해 시각화\n",
    "    \n",
    "2. 데이터\n",
    "    \n",
    "    1. lake 내 모든 문서(약 2만 3천건)에 대한 1024차원의 TF-IDF 벡터\n",
    "        \n",
    "    2. TF-IDF 가중치에 따라 내림차순 정렬된 키워드 정보"
   ]
  },
  {
   "cell_type": "markdown",
   "metadata": {},
   "source": [
    "## 모듈 import"
   ]
  },
  {
   "cell_type": "code",
   "execution_count": null,
   "metadata": {},
   "outputs": [],
   "source": [
    "from keyword_analyze import *"
   ]
  },
  {
   "cell_type": "markdown",
   "metadata": {},
   "source": [
    "## 필요한 데이터 불러오기"
   ]
  },
  {
   "cell_type": "code",
   "execution_count": null,
   "metadata": {},
   "outputs": [],
   "source": [
    "# 키워드 데이터\n",
    "data = 'path/to/the/keword/data.pkl'"
   ]
  },
  {
   "cell_type": "code",
   "execution_count": null,
   "metadata": {},
   "outputs": [],
   "source": [
    "# 문서 검색\n",
    "searched_file = Search_Document(data)"
   ]
  },
  {
   "cell_type": "markdown",
   "metadata": {},
   "source": [
    "## 시각화"
   ]
  },
  {
   "cell_type": "code",
   "execution_count": null,
   "metadata": {},
   "outputs": [],
   "source": [
    "# 검색된 문서의 메타 정보 출력\n",
    "searched_file.print_doc_info()"
   ]
  },
  {
   "cell_type": "code",
   "execution_count": null,
   "metadata": {},
   "outputs": [],
   "source": [
    "# 워드 클라우드\n",
    "wordcloud = Word_Cloud(searched_file.df, searched_file.queried_index)\n",
    "\n",
    "wordcloud.word_cloud()"
   ]
  },
  {
   "cell_type": "code",
   "execution_count": null,
   "metadata": {},
   "outputs": [],
   "source": [
    "# 키워드 리스트 출력\n",
    "word_list = Keyword_List(searched_file.df, searched_file.queried_index)\n",
    "\n",
    "word_list.keyword_list()"
   ]
  }
 ],
 "metadata": {
  "kernelspec": {
   "display_name": "django",
   "language": "python",
   "name": "python3"
  },
  "language_info": {
   "name": "python",
   "version": "3.11.3"
  }
 },
 "nbformat": 4,
 "nbformat_minor": 2
}
