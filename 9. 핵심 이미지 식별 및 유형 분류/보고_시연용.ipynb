{
 "cells": [
  {
   "cell_type": "markdown",
   "metadata": {},
   "source": [
    "# 이미지 식별/분류\n",
    "\n",
    "1. 태스크 개요\n",
    "    \n",
    "    1. 태스크 정의\n",
    "    \n",
    "        (1) 이미지 내의 핵심 정보 식별 : 핵심 정보의 종류 식별함\n",
    "    \n",
    "            - 핵심 정보 : 도면, 표\n",
    "    \n",
    "        (2) 핵심 도면 이미지 분류 : 식별된 핵심 도면 이미지를 분류함\n",
    "    \n",
    "            - 종류 : Cell, Assy, Roll, Rode, Etc\n",
    "2. 학습\n",
    "    \n",
    "    1. YOLOv8 Detection Model\n",
    "    \n",
    "        (1) 문서 lake내에서 ‘도면’에 해당하는 이미지 약 300장\n",
    "    \n",
    "        (2) dwg 파일 44개 내의 도면 이미지 약 100장\n",
    "    \n",
    "        (3) 일반 문서 내에 숨어있는 도면 이미지 약 500장\n",
    "    \n",
    "        (4) 학습 80%, 검증 20% 사용\n",
    "    \n",
    "        (5) Detection 종류 : Drawing, Table, Column\n",
    "    \n",
    "    2. YOLOv8 Classification Model\n",
    "    \n",
    "        (1) Detection Model 학습에 사용된 이미지에서 도면에 해당하는 그림을 Crop 한 뒤 분류 학습\n",
    "    \n",
    "        (2) 학습에 사용된 Crop 이미지 약 400장\n",
    "    \n",
    "        (3) 학습 90%, 검증 10% 사용\n",
    "    \n",
    "        (4) Classification 종류 : Cell, Assy, Roll, Rode, Etc\n",
    "    \n",
    "    3. 결과\n",
    "    \n",
    "        (1) YOLOv8 Detection Model 정확도 : - ap 50 : 94%\n",
    "    \n",
    "        (2) 약 16 시간 소요\n",
    "    \n",
    "        (3) YOLOv8 Classification Model 정확도 : - top1 accuracy : 94%\n",
    "    \n",
    "        (4) 약 1 ~ 2 시간 소요"
   ]
  },
  {
   "cell_type": "markdown",
   "metadata": {},
   "source": [
    "## 모듈 import"
   ]
  },
  {
   "cell_type": "code",
   "execution_count": null,
   "metadata": {},
   "outputs": [],
   "source": [
    "from detect_ensoldrawing import *"
   ]
  },
  {
   "cell_type": "markdown",
   "metadata": {},
   "source": [
    "## 모델 경로 설정"
   ]
  },
  {
   "cell_type": "code",
   "execution_count": null,
   "metadata": {},
   "outputs": [],
   "source": [
    "yolo_detection_path = 'path/to/the/detection/model.pt'\n",
    "yolo_classify_path = 'path/to/the/classify/model.pt'"
   ]
  },
  {
   "cell_type": "markdown",
   "metadata": {},
   "source": [
    "## 모델 불러오기"
   ]
  },
  {
   "cell_type": "code",
   "execution_count": null,
   "metadata": {},
   "outputs": [],
   "source": [
    "# 모델 초기화\n",
    "model = ModelLoader(yolo_detection_path, yolo_classify_path, device_number='1')\n",
    "\n",
    "# 추론 모델 설정\n",
    "yolo = Inference(model.detection_model, model.classify_model)"
   ]
  },
  {
   "cell_type": "markdown",
   "metadata": {},
   "source": [
    "## 문서 Lake내의 일반 문서 추론"
   ]
  },
  {
   "cell_type": "code",
   "execution_count": null,
   "metadata": {},
   "outputs": [],
   "source": [
    "# Lake 내에 png 파일이 있는 문서의 일련번호를 입력\n",
    "# ex) 20080, 경로 = /data/lake/ensol/processed/80/00\n",
    "directory_image_inference = yolo.inference_directory_with_eos()"
   ]
  },
  {
   "cell_type": "code",
   "execution_count": null,
   "metadata": {},
   "outputs": [],
   "source": [
    "# 2차 분류 실행\n",
    "directory_image_classification = yolo.classify(directory_image_inference[2])"
   ]
  },
  {
   "cell_type": "code",
   "execution_count": null,
   "metadata": {},
   "outputs": [],
   "source": [
    "# 전체 결과 시각화\n",
    "Visualize.multi_image_inference_visualize(directory_image_inference[0], directory_image_inference[1], directory_image_inference[2], directory_image_classification, directory_image_inference[3])"
   ]
  }
 ],
 "metadata": {
  "kernelspec": {
   "display_name": "django",
   "language": "python",
   "name": "python3"
  },
  "language_info": {
   "name": "python",
   "version": "3.11.3"
  }
 },
 "nbformat": 4,
 "nbformat_minor": 2
}
