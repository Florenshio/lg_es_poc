{
 "cells": [
  {
   "cell_type": "markdown",
   "metadata": {},
   "source": [
    "1. 태스크 개요\n",
    "    \n",
    "    1. 태스크 정의\n",
    "    \n",
    "        (1) 임베딩 벡터 2차원 투영 : 문서 Lake내의 전체 문서에 대한 벡터를 2차원 변환\n",
    "    \n",
    "        (2) 2차원 벡터 산점도 산출 : 변환된 2차원 벡터의 위치를 산점도 그래프로 출력\n",
    "    \n",
    "    2. 태스크 특징\n",
    "    \n",
    "        (1) 전체 문서는 자동 분류기를 통해 문서 종류가 레이블된 상태\n",
    "    \n",
    "        (2) 고차원의 임베딩 벡터를 2차원 벡터로 변환한다.\n",
    "    \n",
    "        (3) 임베딩 벡터는 비선형 데이터이므로, 비선형 데이터에 적합한 차원 변환 기법을 적용한다.\n",
    "    \n",
    "2. 데이터\n",
    "    \n",
    "    1. Lake 내 모든 문서(약 2만 3천건)에 대한 1024차원의 임베딩 벡터\n",
    "    \n",
    "        - 본래의 28,058건의 문서 중, DRM 및 오류 파일 4,669건을 제거한 결과\n",
    "\n",
    "3. 데이터 흐름\n",
    "    \n",
    "4. 벡터 차원 변환 기법\n",
    "    \n",
    "    1. 1024차원 문서 임베딩 벡터들을 2차원 벡터로 변환\n",
    "        \n",
    "    2. 그래프 상에서 좌표간의 거리가 가까울 수록 의미적으로 비슷한 문서라는 뜻"
   ]
  },
  {
   "cell_type": "markdown",
   "metadata": {},
   "source": [
    "## 모듈 import"
   ]
  },
  {
   "cell_type": "code",
   "execution_count": null,
   "metadata": {},
   "outputs": [],
   "source": [
    "from doc_distribution import *"
   ]
  },
  {
   "cell_type": "markdown",
   "metadata": {},
   "source": [
    "## 임베딩 벡터 데이터 불러오기"
   ]
  },
  {
   "cell_type": "code",
   "execution_count": null,
   "metadata": {},
   "outputs": [],
   "source": [
    "data = 'path/to/the/imbedd/data.pickle'\n",
    "\n",
    "df = load_dataframe(data)"
   ]
  },
  {
   "cell_type": "markdown",
   "metadata": {},
   "source": [
    "## 문서 종류별 건수 표로 정리하기"
   ]
  },
  {
   "cell_type": "code",
   "execution_count": null,
   "metadata": {},
   "outputs": [],
   "source": [
    "doc_list = DocList(data)\n",
    "\n",
    "doc_list.draw()"
   ]
  },
  {
   "cell_type": "markdown",
   "metadata": {},
   "source": [
    "## 문서 분포도 산출"
   ]
  },
  {
   "cell_type": "code",
   "execution_count": null,
   "metadata": {},
   "outputs": [],
   "source": [
    "tsne = Tsne(data)\n",
    "\n",
    "tsne.draw()"
   ]
  }
 ],
 "metadata": {
  "kernelspec": {
   "display_name": "django",
   "language": "python",
   "name": "python3"
  },
  "language_info": {
   "name": "python",
   "version": "3.11.3"
  }
 },
 "nbformat": 4,
 "nbformat_minor": 2
}
